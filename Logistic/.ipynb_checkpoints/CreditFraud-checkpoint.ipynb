{
 "cells": [
  {
   "cell_type": "code",
   "execution_count": 16,
   "id": "130a4f43",
   "metadata": {},
   "outputs": [
    {
     "name": "stdout",
     "output_type": "stream",
     "text": [
      "<class 'pandas.core.frame.DataFrame'>\n",
      "RangeIndex: 6362620 entries, 0 to 6362619\n",
      "Data columns (total 11 columns):\n",
      " #   Column          Dtype  \n",
      "---  ------          -----  \n",
      " 0   step            int64  \n",
      " 1   type            object \n",
      " 2   amount          float64\n",
      " 3   nameOrig        object \n",
      " 4   oldbalanceOrg   float64\n",
      " 5   newbalanceOrig  float64\n",
      " 6   nameDest        object \n",
      " 7   oldbalanceDest  float64\n",
      " 8   newbalanceDest  float64\n",
      " 9   isFraud         int64  \n",
      " 10  isFlaggedFraud  int64  \n",
      "dtypes: float64(5), int64(3), object(3)\n",
      "memory usage: 534.0+ MB\n",
      "None\n"
     ]
    }
   ],
   "source": [
    "import pandas as pd\n",
    "import numpy as np\n",
    "import matplotlib.pyplot as plt\n",
    "from sklearn.linear_model import LogisticRegression\n",
    "\n",
    "# codecademyU - Old\n",
    "transactions = pd.read_csv('transactions.csv')\n",
    "\n",
    "#print(transactions.head())\n",
    "#print(transactions.columns)\n",
    "print(transactions.info())"
   ]
  },
  {
   "cell_type": "code",
   "execution_count": 9,
   "id": "b4259946",
   "metadata": {},
   "outputs": [
    {
     "name": "stdout",
     "output_type": "stream",
     "text": [
      "count    6.362620e+06\n",
      "mean     1.798619e+05\n",
      "std      6.038582e+05\n",
      "min      0.000000e+00\n",
      "25%      1.338957e+04\n",
      "50%      7.487194e+04\n",
      "75%      2.087215e+05\n",
      "max      9.244552e+07\n",
      "Name: amount, dtype: float64\n"
     ]
    }
   ],
   "source": [
    "print(transactions['amount'].describe())"
   ]
  },
  {
   "cell_type": "code",
   "execution_count": 10,
   "id": "11447e4c",
   "metadata": {},
   "outputs": [
    {
     "name": "stdout",
     "output_type": "stream",
     "text": [
      "count      6362620\n",
      "unique           5\n",
      "top       CASH_OUT\n",
      "freq       2237500\n",
      "Name: type, dtype: object\n"
     ]
    }
   ],
   "source": [
    "print(transactions['type'].describe())"
   ]
  },
  {
   "cell_type": "code",
   "execution_count": 25,
   "id": "993af104",
   "metadata": {},
   "outputs": [
    {
     "name": "stdout",
     "output_type": "stream",
     "text": [
      "<class 'pandas.core.frame.DataFrame'>\n",
      "RangeIndex: 6362620 entries, 0 to 6362619\n",
      "Data columns (total 14 columns):\n",
      " #   Column          Dtype  \n",
      "---  ------          -----  \n",
      " 0   step            int64  \n",
      " 1   type            object \n",
      " 2   amount          float64\n",
      " 3   nameOrig        object \n",
      " 4   oldbalanceOrg   float64\n",
      " 5   newbalanceOrig  float64\n",
      " 6   nameDest        object \n",
      " 7   oldbalanceDest  float64\n",
      " 8   newbalanceDest  float64\n",
      " 9   isFraud         int64  \n",
      " 10  isFlaggedFraud  int64  \n",
      " 11  isMovement      int64  \n",
      " 12  isPayment       int64  \n",
      " 13  accountDiff     float64\n",
      "dtypes: float64(6), int64(5), object(3)\n",
      "memory usage: 679.6+ MB\n",
      "None\n",
      "355553416.3\n"
     ]
    }
   ],
   "source": [
    "# Modify data and put in new column\n",
    "# Booleans\n",
    "transactions['isMovement'] = transactions[transactions['type'] == \"CASH_OUT\"] = 1\n",
    "transactions['isMovement'] = transactions[transactions['type'] == \"TRANSFER\"] = 0\n",
    "\n",
    "transactions['isPayment'] = transactions[transactions['type'] == \"PAYMENT\"] = 1\n",
    "transactions['isPayment'] = transactions[transactions['type'] == \"DEBIT\"] = 0\n",
    "\n",
    "# Significant difference can trigger fraud alert\n",
    "transactions['accountDiff'] = transactions['oldbalanceOrg'] - transactions['oldbalanceDest']\n",
    "\n",
    "print(transactions.info())\n",
    "#print(transactions['oldbalanceDest'].max())"
   ]
  },
  {
   "cell_type": "code",
   "execution_count": 31,
   "id": "3080c596",
   "metadata": {},
   "outputs": [],
   "source": [
    "# Select and Split the Data\n",
    "# Data used to predict\n",
    "x = transactions[['amount', 'isPayment', 'isMovement', 'accountDiff']]\n",
    "# Achieving column\n",
    "y = transactions.isFraud\n",
    "\n",
    "# Transform X\n",
    "from sklearn.preprocessing import StandardScaler\n",
    "scaler = StandardScaler()\n",
    "scaler.fit(x)\n",
    "X = scaler.transform(x)\n",
    "\n",
    "# Split data into training and testing sets\n",
    "from sklearn.model_selection import train_test_split\n",
    "X_train, X_test, y_train, y_test = train_test_split(X, y, test_size=0.3, random_state = 27)"
   ]
  },
  {
   "cell_type": "code",
   "execution_count": 35,
   "id": "03337e7d",
   "metadata": {},
   "outputs": [
    {
     "name": "stdout",
     "output_type": "stream",
     "text": [
      "[[-96.51395872   0.           0.          -0.5331494 ]]\n",
      "[-37.14542448]\n",
      "Predicted classes:  [1 1 1 ... 0 0 1]\n",
      "True classes:  177267     1\n",
      "6185488    1\n",
      "5765101    1\n",
      "4830191    1\n",
      "6268533    1\n",
      "          ..\n",
      "1712179    1\n",
      "2633714    1\n",
      "3739931    0\n",
      "4484624    0\n",
      "3260104    1\n",
      "Name: isFraud, Length: 1908786, dtype: int64\n",
      "[8.82564167e-01 8.82564167e-01 8.82564167e-01 ... 1.05140726e-06\n",
      " 2.06080941e-20 8.82564167e-01]\n"
     ]
    }
   ],
   "source": [
    "# Create and fit the logistic regression model here:\n",
    "cc_lr = LogisticRegression()\n",
    "cc_lr.fit(X_train,y_train)\n",
    "\n",
    "# Print the intercept and coefficients here:\n",
    "print(cc_lr.coef_)\n",
    "print(cc_lr.intercept_)\n",
    "\n",
    "# Save and print the predicted outcomes\n",
    "y_pred = cc_lr.predict(X_test)\n",
    "print('Predicted classes: ', y_pred)\n",
    "\n",
    "# Print out the true outcomes for the test data\n",
    "print('True classes: ', y_test)\n",
    "\n",
    "# Print out the predicted probabilities for the test data\n",
    "print(cc_lr.predict_proba(X_test)[:,1])"
   ]
  },
  {
   "cell_type": "code",
   "execution_count": 41,
   "id": "302ab9bf",
   "metadata": {},
   "outputs": [
    {
     "name": "stdout",
     "output_type": "stream",
     "text": [
      "Confusion Matrix: \n",
      "[[ 418305  174136]\n",
      " [      0 1316345]]\n",
      "Accuracy Score: 90.88%\n",
      "Precision Score: 88.32%\n",
      "Recall Score: 100.00%\n",
      "F1 Score: 93.80%\n"
     ]
    }
   ],
   "source": [
    "from sklearn.metrics import confusion_matrix\n",
    "from sklearn.metrics import accuracy_score\n",
    "from sklearn.metrics import precision_score\n",
    "from sklearn.metrics import recall_score\n",
    "from sklearn.metrics import f1_score\n",
    "\n",
    "# Print out the confusion matrix\n",
    "# [True Negatives, False Positives] \n",
    "# [False Negatives, True Positives]\n",
    "print('Confusion Matrix: \\n{}'.format(confusion_matrix(y_test, y_pred)))\n",
    "\n",
    "# Accuracy:\n",
    "print('Accuracy Score: {:.2f}%'.format(accuracy_score(y_test, y_pred) * 100))\n",
    "\n",
    "# Precision:\n",
    "print('Precision Score: {:.2f}%'.format(precision_score(y_test, y_pred) * 100))\n",
    "\n",
    "# Recall: \n",
    "print('Recall Score: {:.2f}%'.format(recall_score(y_test, y_pred) * 100))\n",
    "\n",
    "# F1 score\n",
    "print('F1 Score: {:.2f}%'.format(f1_score(y_test, y_pred) * 100))"
   ]
  },
  {
   "cell_type": "code",
   "execution_count": 45,
   "id": "254de3ef",
   "metadata": {},
   "outputs": [
    {
     "name": "stdout",
     "output_type": "stream",
     "text": [
      "amount          37150.070397\n",
      "isPayment           0.000000\n",
      "isMovement          0.000000\n",
      "accountDiff    440404.860656\n",
      "dtype: float64\n"
     ]
    }
   ],
   "source": [
    "print(x.mean())"
   ]
  },
  {
   "cell_type": "code",
   "execution_count": 63,
   "id": "b95e4af1",
   "metadata": {},
   "outputs": [
    {
     "name": "stdout",
     "output_type": "stream",
     "text": [
      "[0 0 0 0]\n",
      "[[1.00000000e+000 2.89069094e-056]\n",
      " [1.00000000e+000 5.58151289e-045]\n",
      " [1.00000000e+000 2.59490108e-248]\n",
      " [9.91851073e-001 8.14892685e-003]]\n"
     ]
    },
    {
     "name": "stderr",
     "output_type": "stream",
     "text": [
      "C:\\Users\\ivanx\\anaconda3\\Lib\\site-packages\\sklearn\\base.py:464: UserWarning: X does not have valid feature names, but StandardScaler was fitted with feature names\n",
      "  warnings.warn(\n"
     ]
    }
   ],
   "source": [
    "# New transaction data\n",
    "transaction1 = np.array([123456.78, 0.0, 1.0, 54670.1])\n",
    "transaction2 = np.array([98765.43, 1.0, 0.0, 8524.75])\n",
    "transaction3 = np.array([543678.31, 1.0, 0.0, 510025.5])\n",
    "\n",
    "# Create a new transaction\n",
    "your_transaction = np.array([6472.54, 1.0, 0.0, 55901.23])\n",
    "\n",
    "# Combine new transactions into a single array\n",
    "sample_transactions = np.stack((transaction1,transaction2,transaction3,your_transaction))\n",
    "\n",
    "# Normalize the new transactions\n",
    "sample_transactions = scaler.transform(sample_transactions)\n",
    "\n",
    "# Predict fraud on the new transactions\n",
    "print(cc_lr.predict(sample_transactions))\n",
    "\n",
    "# Show probabilities on the new transactions\n",
    "print(cc_lr.predict_proba(sample_transactions))"
   ]
  },
  {
   "cell_type": "code",
   "execution_count": 66,
   "id": "efbd2bc6",
   "metadata": {},
   "outputs": [
    {
     "name": "stdout",
     "output_type": "stream",
     "text": [
      "   step      type    amount     nameOrig  oldbalanceOrg  newbalanceOrig  \\\n",
      "0     1   PAYMENT   9839.64  C1231006815       170136.0       160296.36   \n",
      "1     1   PAYMENT   1864.28  C1666544295        21249.0        19384.72   \n",
      "2     1  TRANSFER    181.00  C1305486145          181.0            0.00   \n",
      "3     1  CASH_OUT    181.00   C840083671          181.0            0.00   \n",
      "4     1   PAYMENT  11668.14  C2048537720        41554.0        29885.86   \n",
      "\n",
      "      nameDest  oldbalanceDest  newbalanceDest  isFraud  isFlaggedFraud  \n",
      "0  M1979787155             0.0             0.0        0               0  \n",
      "1  M2044282225             0.0             0.0        0               0  \n",
      "2   C553264065             0.0             0.0        1               0  \n",
      "3    C38997010         21182.0             0.0        1               0  \n",
      "4  M1230701703             0.0             0.0        0               0  \n",
      "<class 'pandas.core.frame.DataFrame'>\n",
      "RangeIndex: 6362620 entries, 0 to 6362619\n",
      "Data columns (total 11 columns):\n",
      " #   Column          Dtype  \n",
      "---  ------          -----  \n",
      " 0   step            int64  \n",
      " 1   type            object \n",
      " 2   amount          float64\n",
      " 3   nameOrig        object \n",
      " 4   oldbalanceOrg   float64\n",
      " 5   newbalanceOrig  float64\n",
      " 6   nameDest        object \n",
      " 7   oldbalanceDest  float64\n",
      " 8   newbalanceDest  float64\n",
      " 9   isFraud         int64  \n",
      " 10  isFlaggedFraud  int64  \n",
      "dtypes: float64(5), int64(3), object(3)\n",
      "memory usage: 534.0+ MB\n",
      "None\n",
      "0.9094539670764559\n",
      "0.909580749230139\n",
      "[[-46.61191812   0.           5.62828054 -31.78358997]]\n",
      "[0 0 0 0]\n",
      "[[1.00000000e+000 1.80469120e-022]\n",
      " [1.00000000e+000 5.66323091e-022]\n",
      " [1.00000000e+000 1.74057376e-122]\n",
      " [9.26362343e-001 7.36376569e-002]]\n"
     ]
    },
    {
     "name": "stderr",
     "output_type": "stream",
     "text": [
      "C:\\Users\\ivanx\\anaconda3\\Lib\\site-packages\\sklearn\\base.py:464: UserWarning: X does not have valid feature names, but StandardScaler was fitted with feature names\n",
      "  warnings.warn(\n"
     ]
    }
   ],
   "source": []
  }
 ],
 "metadata": {
  "kernelspec": {
   "display_name": "Python 3 (ipykernel)",
   "language": "python",
   "name": "python3"
  },
  "language_info": {
   "codemirror_mode": {
    "name": "ipython",
    "version": 3
   },
   "file_extension": ".py",
   "mimetype": "text/x-python",
   "name": "python",
   "nbconvert_exporter": "python",
   "pygments_lexer": "ipython3",
   "version": "3.11.5"
  }
 },
 "nbformat": 4,
 "nbformat_minor": 5
}
