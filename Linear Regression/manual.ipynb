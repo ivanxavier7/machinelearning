{
 "cells": [
  {
   "cell_type": "code",
   "execution_count": null,
   "id": "4624ef31",
   "metadata": {},
   "outputs": [],
   "source": [
    "def get_gradient_at_b(x, y, m, b):\n",
    "    diff = 0\n",
    "    N = len(x)\n",
    "\n",
    "    for i in range(N): \n",
    "    y_val = y[i]\n",
    "    x_val = x[i]\n",
    "    diff += y_val - (m * x_val + b)\n",
    "\n",
    "    return diff * (-2/N)\n",
    "\n",
    "def get_gradient_at_m(x, y, m, b):\n",
    "    diff = 0\n",
    "    N = len(x)\n",
    "    for i in range(N):\n",
    "        y_val = y[i]\n",
    "        x_val = x[i]\n",
    "        diff += x_val * (y_val - (m * x_val + b))\n",
    "    return diff * (-2/N)\n",
    "\n",
    "def step_gradient(b_current, m_current, x, y, learning_rate):\n",
    "    b_gradient = get_gradient_at_b(x, y, b_current, m_current)\n",
    "    m_gradient = get_gradient_at_m(x, y, b_current, m_current)\n",
    "\n",
    "    b = b_current - (learning_rate * b_gradient)\n",
    "    m = m_current - (learning_rate * m_gradient)\n",
    "\n",
    "    return [b, m]\n",
    "  \n",
    "def gradient_descent(x, y, learning_rate, num_iterations):\n",
    "    b = 0\n",
    "    m = 0\n",
    "\n",
    "    for i in range(num_iterations):\n",
    "        b, m = step_gradient(b, m, x, y, learning_rate)\n",
    "\n",
    "    return b, m\n",
    "\n",
    "\n",
    "months = [1, 2, 3, 4, 5, 6, 7, 8, 9, 10, 11, 12]\n",
    "revenue = [52, 74, 79, 95, 115, 110, 129, 126, 147, 146, 156, 184]\n",
    "\n",
    "b, m = gradient_descent(months, revenue, 0.01, 1000)\n",
    "\n",
    "y = [m*x + b for x in months]\n",
    "\n",
    "plt.plot(months, revenue, \"o\")\n",
    "plt.plot(months, y)\n",
    "plt.show()"
   ]
  }
 ],
 "metadata": {
  "kernelspec": {
   "display_name": "Python 3 (ipykernel)",
   "language": "python",
   "name": "python3"
  },
  "language_info": {
   "codemirror_mode": {
    "name": "ipython",
    "version": 3
   },
   "file_extension": ".py",
   "mimetype": "text/x-python",
   "name": "python",
   "nbconvert_exporter": "python",
   "pygments_lexer": "ipython3",
   "version": "3.11.5"
  }
 },
 "nbformat": 4,
 "nbformat_minor": 5
}
