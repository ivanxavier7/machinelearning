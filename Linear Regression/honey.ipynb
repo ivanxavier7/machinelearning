{
 "cells": [
  {
   "cell_type": "code",
   "execution_count": null,
   "id": "4ccd792e",
   "metadata": {},
   "outputs": [],
   "source": [
    "import pandas as pd\n",
    "import matplotlib.pyplot as plt\n",
    "import numpy as np\n",
    "from sklearn import linear_model\n",
    "from sklearn.linear_model import LinearRegression\n",
    "\n",
    "df = pd.read_csv(\"honeyproduction.csv\")\n",
    "\n",
    "prod_per_year = df.groupby('year').totalprod.mean().reset_index()\n",
    "years = prod_per_year[\"year\"]\n",
    "\n",
    "x = np.array(years).reshape(-1, 1)\n",
    "y = prod_per_year[\"totalprod\"]\n",
    "\n",
    "line_fitter = LinearRegression()\n",
    "line_fitter.fit(x, y)\n",
    "\n",
    "y_predict = line_fitter.predict(x)\n",
    "\n",
    "future_x = np.array(range(2025, 2035))\n",
    "future_x = future_x.reshape(-1, 1)\n",
    "future_predict = line_fitter.predict(future_x)\n",
    "\n",
    "\n",
    "plt.plot(x, y, 'o')\n",
    "plt.plot(x, y_predict)\n",
    "plt.plot(future_x, future_predict)\n",
    "plt.show()"
   ]
  }
 ],
 "metadata": {
  "kernelspec": {
   "display_name": "Python 3 (ipykernel)",
   "language": "python",
   "name": "python3"
  },
  "language_info": {
   "codemirror_mode": {
    "name": "ipython",
    "version": 3
   },
   "file_extension": ".py",
   "mimetype": "text/x-python",
   "name": "python",
   "nbconvert_exporter": "python",
   "pygments_lexer": "ipython3",
   "version": "3.11.5"
  }
 },
 "nbformat": 4,
 "nbformat_minor": 5
}
